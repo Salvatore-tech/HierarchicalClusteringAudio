{
 "cells": [
  {
   "cell_type": "code",
   "execution_count": 1,
   "id": "d3679c95",
   "metadata": {},
   "outputs": [],
   "source": [
    "import os\n",
    "import sys\n",
    "\n",
    "import librosa as lr\n",
    "import librosa.display\n",
    "import numpy as np\n",
    "import pandas as pd\n",
    "from sklearn.cluster import AgglomerativeClustering\n",
    "import matplotlib.pyplot as plt"
   ]
  },
  {
   "cell_type": "code",
   "execution_count": 2,
   "id": "6cf1929b",
   "metadata": {},
   "outputs": [],
   "source": [
    "DATASET_ROOT = \"/home/saso/Documents/whale_data\"\n",
    "TRAINING_PATH = os.path.join(DATASET_ROOT, \"train/\")\n",
    "RESOURCE_PATH = \"./resources\"\n",
    "OUTPUT_PATH = \"./output\"\n",
    "DF_WITH_CLUSTERS_PATH_LIMITED = os.path.join(OUTPUT_PATH, \"df_with_clusters.csv\")\n",
    "FULL_DF_WITH_CLUSTERS_PATH = os.path.join(RESOURCE_PATH, \"df_with_clusters_full.csv\")\n",
    "N_CLUSTERS = 3\n",
    "SAMPLE_RATE = 2000\n",
    "WHALE_LABEL = \"Whale\"\n",
    "NOISE_LABEL = \"Noise\""
   ]
  },
  {
   "cell_type": "code",
   "execution_count": null,
   "id": "c6619b04",
   "metadata": {},
   "outputs": [],
   "source": []
  },
  {
   "cell_type": "code",
   "execution_count": 3,
   "id": "456a06bb",
   "metadata": {},
   "outputs": [],
   "source": [
    "def compute_mfcc(limit=False):\n",
    "    mfccs = []\n",
    "    # Load dataset\n",
    "    if limit:\n",
    "        df = pd.read_csv(os.path.join(DATASET_ROOT, \"train.csv\"), nrows=1000)\n",
    "    else:\n",
    "        df = pd.read_csv(os.path.join(DATASET_ROOT, \"train.csv\"))\n",
    "    for index, row in df.iterrows():\n",
    "        full_track_name = TRAINING_PATH + row[\"clip_name\"]\n",
    "        audio, _ = lr.load(full_track_name, sr=SAMPLE_RATE, res_type='kaiser_fast')\n",
    "        mfccs.append(np.mean(lr.feature.mfcc(y=audio, sr=SAMPLE_RATE), axis=1))\n",
    "    return mfccs, df"
   ]
  },
  {
   "cell_type": "code",
   "execution_count": 4,
   "id": "6ce85b30",
   "metadata": {},
   "outputs": [],
   "source": [
    "mfccs, df = compute_mfcc(limit=True)  # limit the dataset load for testing purpouses\n",
    "clustering_model = AgglomerativeClustering(n_clusters=N_CLUSTERS, metric='euclidean', linkage='ward')\n",
    "clustering_model.fit(mfccs)\n",
    "df['cluster'] = clustering_model.labels_\n",
    "df.to_csv(DF_WITH_CLUSTERS_PATH_LIMITED, encoding='utf-8')\n",
    "df = pd.read_csv(FULL_DF_WITH_CLUSTERS_PATH)"
   ]
  },
  {
   "cell_type": "code",
   "execution_count": 5,
   "id": "10206f0b",
   "metadata": {},
   "outputs": [],
   "source": [
    "def show_cluster_hist_subplots(dataframe_with_clusters, number_of_clusters):\n",
    "    fig, ax = plt.subplots(3, sharex=True, sharey=True)\n",
    "\n",
    "    clusters = []\n",
    "    for i in range(number_of_clusters):\n",
    "        clusters.append(dataframe_with_clusters[dataframe_with_clusters[\"cluster\"] == i])\n",
    "\n",
    "    # add a big axes, hide frame\n",
    "    fig.add_subplot(111, frameon=False)\n",
    "    # hide tick and tick label of the big axes\n",
    "    plt.tick_params(labelcolor='none', top=False, bottom=False, left=False, right=False)\n",
    "    plt.grid(False)\n",
    "    plt.title(\"Histograms Whale/Noise for cluster\")\n",
    "    plt.xlabel(\"Target variable\", labelpad=5)\n",
    "    plt.ylabel(\"No. samples\", labelpad=15)\n",
    "    #\n",
    "    for i in range(number_of_clusters):\n",
    "        ax[i].hist(clusters[i]['label'])\n",
    "\n",
    "    fig.tight_layout(pad=10.0)\n",
    "    plt.show()"
   ]
  },
  {
   "cell_type": "code",
   "execution_count": 6,
   "id": "acc8757b",
   "metadata": {},
   "outputs": [
    {
     "name": "stderr",
     "output_type": "stream",
     "text": [
      "/tmp/ipykernel_10873/4101270450.py:20: UserWarning: Tight layout not applied. tight_layout cannot make axes height small enough to accommodate all axes decorations.\n",
      "  fig.tight_layout(pad=10.0)\n"
     ]
    },
    {
     "data": {
      "image/png": "[encoded data removed]",
      "text/plain": [
       "<Figure size 432x288 with 4 Axes>"
      ]
     },
     "metadata": {
      "needs_background": "light"
     },
     "output_type": "display_data"
    }
   ],
   "source": [
    "show_cluster_hist_subplots(df, N_CLUSTERS)"
   ]
  },
  {
   "cell_type": "code",
   "execution_count": 7,
   "id": "a4e5c872",
   "metadata": {},
   "outputs": [],
   "source": [
    "def map_target_var_to_label(dataframe_with_clusters):\n",
    "    dict_mapping = {0: NOISE_LABEL, 1: WHALE_LABEL}\n",
    "    dataframe_with_clusters['label'] = dataframe_with_clusters['label'].map(dict_mapping)"
   ]
  },
  {
   "cell_type": "code",
   "execution_count": 8,
   "id": "5b565826",
   "metadata": {},
   "outputs": [
    {
     "data": {
      "text/html": [
       "<div>\n",
       "<style scoped>\n",
       "    .dataframe tbody tr th:only-of-type {\n",
       "        vertical-align: middle;\n",
       "    }\n",
       "\n",
       "    .dataframe tbody tr th {\n",
       "        vertical-align: top;\n",
       "    }\n",
       "\n",
       "    .dataframe thead th {\n",
       "        text-align: right;\n",
       "    }\n",
       "</style>\n",
       "<table border=\"1\" class=\"dataframe\">\n",
       "  <thead>\n",
       "    <tr style=\"text-align: right;\">\n",
       "      <th></th>\n",
       "      <th>Unnamed: 0</th>\n",
       "      <th>clip_name</th>\n",
       "      <th>label</th>\n",
       "      <th>cluster</th>\n",
       "    </tr>\n",
       "  </thead>\n",
       "  <tbody>\n",
       "    <tr>\n",
       "      <th>0</th>\n",
       "      <td>0</td>\n",
       "      <td>train1.aiff</td>\n",
       "      <td>Noise</td>\n",
       "      <td>2</td>\n",
       "    </tr>\n",
       "    <tr>\n",
       "      <th>1</th>\n",
       "      <td>1</td>\n",
       "      <td>train2.aiff</td>\n",
       "      <td>Noise</td>\n",
       "      <td>0</td>\n",
       "    </tr>\n",
       "    <tr>\n",
       "      <th>2</th>\n",
       "      <td>2</td>\n",
       "      <td>train3.aiff</td>\n",
       "      <td>Noise</td>\n",
       "      <td>0</td>\n",
       "    </tr>\n",
       "    <tr>\n",
       "      <th>3</th>\n",
       "      <td>3</td>\n",
       "      <td>train4.aiff</td>\n",
       "      <td>Noise</td>\n",
       "      <td>0</td>\n",
       "    </tr>\n",
       "    <tr>\n",
       "      <th>4</th>\n",
       "      <td>4</td>\n",
       "      <td>train5.aiff</td>\n",
       "      <td>Noise</td>\n",
       "      <td>0</td>\n",
       "    </tr>\n",
       "    <tr>\n",
       "      <th>...</th>\n",
       "      <td>...</td>\n",
       "      <td>...</td>\n",
       "      <td>...</td>\n",
       "      <td>...</td>\n",
       "    </tr>\n",
       "    <tr>\n",
       "      <th>29995</th>\n",
       "      <td>29995</td>\n",
       "      <td>train29996.aiff</td>\n",
       "      <td>Noise</td>\n",
       "      <td>0</td>\n",
       "    </tr>\n",
       "    <tr>\n",
       "      <th>29996</th>\n",
       "      <td>29996</td>\n",
       "      <td>train29997.aiff</td>\n",
       "      <td>Noise</td>\n",
       "      <td>0</td>\n",
       "    </tr>\n",
       "    <tr>\n",
       "      <th>29997</th>\n",
       "      <td>29997</td>\n",
       "      <td>train29998.aiff</td>\n",
       "      <td>Noise</td>\n",
       "      <td>0</td>\n",
       "    </tr>\n",
       "    <tr>\n",
       "      <th>29998</th>\n",
       "      <td>29998</td>\n",
       "      <td>train29999.aiff</td>\n",
       "      <td>Noise</td>\n",
       "      <td>3</td>\n",
       "    </tr>\n",
       "    <tr>\n",
       "      <th>29999</th>\n",
       "      <td>29999</td>\n",
       "      <td>train30000.aiff</td>\n",
       "      <td>Noise</td>\n",
       "      <td>3</td>\n",
       "    </tr>\n",
       "  </tbody>\n",
       "</table>\n",
       "<p>30000 rows × 4 columns</p>\n",
       "</div>"
      ],
      "text/plain": [
       "       Unnamed: 0        clip_name  label  cluster\n",
       "0               0      train1.aiff  Noise        2\n",
       "1               1      train2.aiff  Noise        0\n",
       "2               2      train3.aiff  Noise        0\n",
       "3               3      train4.aiff  Noise        0\n",
       "4               4      train5.aiff  Noise        0\n",
       "...           ...              ...    ...      ...\n",
       "29995       29995  train29996.aiff  Noise        0\n",
       "29996       29996  train29997.aiff  Noise        0\n",
       "29997       29997  train29998.aiff  Noise        0\n",
       "29998       29998  train29999.aiff  Noise        3\n",
       "29999       29999  train30000.aiff  Noise        3\n",
       "\n",
       "[30000 rows x 4 columns]"
      ]
     },
     "execution_count": 8,
     "metadata": {},
     "output_type": "execute_result"
    }
   ],
   "source": [
    "map_target_var_to_label(df)\n",
    "df"
   ]
  },
  {
   "cell_type": "code",
   "execution_count": 9,
   "id": "77e31ff9",
   "metadata": {},
   "outputs": [],
   "source": [
    "def get_cluster_elements(dataframe_with_clusters, cluster_number):\n",
    "    return dataframe_with_clusters[dataframe_with_clusters[\"cluster\"] == cluster_number]\n",
    "\n",
    "def groupby_cluster(dataframe_with_clusters):\n",
    "    clusters = []\n",
    "    for i in range(N_CLUSTERS):\n",
    "        clusters.append(get_cluster_elements(dataframe_with_clusters, i))\n",
    "    return clusters\n",
    "\n",
    "def get_mfccs_and_mels(cluster):\n",
    "    mfccs = []\n",
    "    mels = []\n",
    "    for index, row in cluster.iterrows():\n",
    "        full_track_name = TRAINING_PATH + row[\"clip_name\"]\n",
    "        audio, _ = lr.load(full_track_name, sr=SAMPLE_RATE, res_type='kaiser_fast')\n",
    "        mfccs.append(lr.feature.mfcc(y=audio, sr=SAMPLE_RATE))\n",
    "        mels.append(lr.feature.melspectrogram(y=audio, sr=SAMPLE_RATE, n_mels=50))\n",
    "    return mfccs, mels"
   ]
  },
  {
   "cell_type": "code",
   "execution_count": 10,
   "id": "b2477f82",
   "metadata": {},
   "outputs": [],
   "source": [
    "clusters = groupby_cluster(df)\n",
    "mfccs = []\n",
    "mels = []\n",
    "for i in range(3):\n",
    "    mfcc, mel = get_mfccs_and_mels(clusters[i])\n",
    "    mfccs.append(np.mean(mfcc, axis=0))\n",
    "    mels.append(np.mean(mel, axis=0))"
   ]
  },
  {
   "cell_type": "code",
   "execution_count": 11,
   "id": "d42a3931",
   "metadata": {},
   "outputs": [],
   "source": [
    "def show_cluster_mean_feature(mels, mfccs):\n",
    "    fig, ax = plt.subplots(nrows=2, ncols=N_CLUSTERS, sharex=True)\n",
    "\n",
    "    # add a big axes, hide frame\n",
    "    fig.add_subplot(111, frameon=False)\n",
    "    # hide tick and tick label of the big axes\n",
    "    plt.tick_params(labelcolor='none', top=False, bottom=False, left=False, right=False)\n",
    "    plt.grid(False)\n",
    "    plt.title(\"Melspectrogram and MFCC for clusters\")\n",
    "    plt.xlabel(\"Time\", labelpad=5)\n",
    "    plt.ylabel(\"Mel\", labelpad=5)\n",
    "\n",
    "    for i in range(N_CLUSTERS):\n",
    "        lr.display.specshow(mels[i],\n",
    "                            sr=SAMPLE_RATE, ax=ax[0, i])\n",
    "    for i in range(N_CLUSTERS):\n",
    "        lr.display.specshow(mfccs[i],\n",
    "                            sr=SAMPLE_RATE, ax=ax[1, i])\n",
    "    plt.show()"
   ]
  },
  {
   "cell_type": "code",
   "execution_count": 12,
   "id": "69168aa2",
   "metadata": {},
   "outputs": [
    {
     "data": {
      "image/png": "[encoded data removed]",
      "text/plain": [
       "<Figure size 432x288 with 7 Axes>"
      ]
     },
     "metadata": {
      "needs_background": "light"
     },
     "output_type": "display_data"
    }
   ],
   "source": [
    "show_cluster_mean_feature(mels, mfccs)"
   ]
  }
 ],
 "metadata": {
  "kernelspec": {
   "display_name": "Python 3 (ipykernel)",
   "language": "python",
   "name": "python3"
  },
  "language_info": {
   "codemirror_mode": {
    "name": "ipython",
    "version": 3
   },
   "file_extension": ".py",
   "mimetype": "text/x-python",
   "name": "python",
   "nbconvert_exporter": "python",
   "pygments_lexer": "ipython3",
   "version": "3.10.6"
  }
 },
 "nbformat": 4,
 "nbformat_minor": 5
}
